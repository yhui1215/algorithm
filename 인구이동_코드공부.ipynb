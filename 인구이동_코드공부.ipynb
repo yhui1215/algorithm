{
  "nbformat": 4,
  "nbformat_minor": 0,
  "metadata": {
    "colab": {
      "name": "인구이동_코드공부.ipynb",
      "provenance": []
    },
    "kernelspec": {
      "name": "python3",
      "display_name": "Python 3"
    },
    "language_info": {
      "name": "python"
    }
  },
  "cells": [
    {
      "cell_type": "code",
      "metadata": {
        "id": "BHUgoL0tWgMa"
      },
      "source": [
        "from collections import deque\n",
        "import sys\n",
        "\n",
        "input = sys.stdin.readline #이걸 사용하면 더 빨라 \n",
        "dx = [1, -1, 0, 0]\n",
        "dy = [0, 0, 1, -1]\n",
        "\n",
        "\n",
        "# 1. bfs를 사용하여 이동\n",
        "# 인구수와 연합한 나라의 수, 좌표를 각각 people, cnt, move_q에 저장\n",
        "\n",
        "def bfs(x, y):\n",
        "    move_q = deque()\n",
        "    q.append([x, y])\n",
        "    c[x][y] = 1\n",
        "    people, cnt = 0, 0\n",
        "\n",
        "    # 2. 인구수 차이가 l과 r사이인 나라를 방문할 수 있는만큼 방문\n",
        "\n",
        "    while q: \n",
        "        x, y = q.popleft()\n",
        "        move_q.append([x, y])\n",
        "        people += a[x][y]\n",
        "        cnt += 1\n",
        "        for i in range(4):\n",
        "            nx = x + dx[i]\n",
        "            ny = y + dy[i]\n",
        "            if 0 <= nx < n and 0 <= ny < n and not c[nx][ny]:\n",
        "                if l <= abs(a[x][y] - a[nx][ny]) <= r:\n",
        "                    c[nx][ny] = cnt\n",
        "                    q.append([nx, ny])\n",
        "\n",
        "\n",
        "    # 3. move_q에서 좌표를 하나씩 불러와서 총 인구 수를 총 나라 수로 나눈 값으로 바꿈\n",
        "\n",
        "    while move_q:\n",
        "        x, y = move_q.popleft()\n",
        "        a[x][y] = people // cnt\n",
        "\n",
        "    # 4. 연합한 나라의 수가 1이면 0, 아니면 1 반환을 해서 연합을 했는지 안했는지 알려줌\n",
        "\n",
        "    if cnt == 1:\n",
        "        return 0\n",
        "    return 1\n",
        "\n",
        "n, l, r = map(int, input().split())\n",
        "a = [list(map(int, input().split())) for _ in range(n)]\n",
        "\n",
        "ans = 0\n",
        "\n",
        "# 5. 위의 과정을 방문하지 않은 모든 나라에 대해서 bfs로 검사한다.\n",
        "#    bfs return값을 모두 더했을때 0이면 더 이상 연합할 수 없다는 뜻이므로 \n",
        "#    while문을 나와 연합한 횟수를 출력 \n",
        "\n",
        "while True:\n",
        "    q = deque()\n",
        "    c = [[0]*n for _ in range(n)]\n",
        "    cnt = 0\n",
        "    for i in range(n):\n",
        "        for j in range(n):\n",
        "            if not c[i][j]:\n",
        "                cnt += bfs(i, j)\n",
        "    if not cnt:\n",
        "        break\n",
        "    ans += 1\n",
        "\n",
        "print(ans)"
      ],
      "execution_count": null,
      "outputs": []
    }
  ]
}