{
 "cells": [
  {
   "cell_type": "code",
   "execution_count": null,
   "metadata": {},
   "outputs": [],
   "source": [
    "### 이유가 몰까여 ## \n",
    "import sys\n",
    "input=sys.stdin.readline\n",
    "n,m= map(int,input().split())\n",
    "tree=list(map(int,input().split()))\n",
    "start=0; end=max(tree)\n",
    "result=0\n",
    "while start<=end:\n",
    "    stop=(start+end)//2\n",
    "    cnt=0\n",
    "    for i in tree:\n",
    "      if i>stop:\n",
    "          cnt+=i-stop\n",
    "    if cnt<m:\n",
    "        end=stop-1\n",
    "    else:\n",
    "        result = stop\n",
    "        start=stop+1               \n",
    "print(result) "
   ]
  }
 ],
 "metadata": {
  "kernelspec": {
   "display_name": "Python 3",
   "language": "python",
   "name": "python3"
  },
  "language_info": {
   "codemirror_mode": {
    "name": "ipython",
    "version": 3
   },
   "file_extension": ".py",
   "mimetype": "text/x-python",
   "name": "python",
   "nbconvert_exporter": "python",
   "pygments_lexer": "ipython3",
   "version": "3.8.5"
  }
 },
 "nbformat": 4,
 "nbformat_minor": 4
}
