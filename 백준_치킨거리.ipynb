{
  "nbformat": 4,
  "nbformat_minor": 0,
  "metadata": {
    "colab": {
      "name": "백준_치킨거리.ipynb",
      "provenance": []
    },
    "kernelspec": {
      "name": "python3",
      "display_name": "Python 3"
    },
    "language_info": {
      "name": "python"
    }
  },
  "cells": [
    {
      "cell_type": "code",
      "metadata": {
        "colab": {
          "base_uri": "https://localhost:8080/"
        },
        "id": "WxyD51ZRZDwZ",
        "outputId": "8a029a9d-ebe0-4fda-8a5d-d23fc5796fd3"
      },
      "source": [
        "# 내가 아까는 실수해써\n",
        "\n",
        "from itertools import combinations\n",
        "\n",
        "n,m=map(int, input().split())\n",
        "street=[]\n",
        "chickens=[];houses=[]\n",
        "for col in range(n):\n",
        "    line=list(map(int, input().split()))\n",
        "    street.append(line)\n",
        "    for row in range(n): \n",
        "        if line[row]==2: \n",
        "          chickens.append((col,row))\n",
        "        elif line[row]==1: \n",
        "          houses.append((col,row))        \n",
        "\n",
        "distance=(2*n)*len(houses)\n",
        "\n",
        "for com in list(combinations(chickens,m)):  # ex. ((0,1),(2,3)) 조합 중 최소조합 골라야돼!\n",
        "\n",
        "    dist=0\n",
        "\n",
        "    for house in houses: # 아하 집마다 하나의 치킨집만 고르라구?! 이제 이해했오\n",
        "\n",
        "             dist+=min([(abs(chicken[0]-house[0])+abs(chicken[1]-house[1])) for chicken in com] ) \n",
        "\n",
        "    if dist<distance:\n",
        "        distance=dist\n",
        "print(distance) "
      ],
      "execution_count": 28,
      "outputs": [
        {
          "output_type": "stream",
          "text": [
            "5 2\n",
            "0 2 0 1 0\n",
            "1 0 1 0 0\n",
            "0 0 0 0 0\n",
            "2 0 0 1 1\n",
            "2 2 0 1 2\n",
            "[(0, 1), (3, 0), (4, 0), (4, 1), (4, 4)]\n",
            "[(0, 3), (1, 0), (1, 2), (3, 3), (3, 4), (4, 3)]\n",
            "10\n"
          ],
          "name": "stdout"
        }
      ]
    }
  ]
}